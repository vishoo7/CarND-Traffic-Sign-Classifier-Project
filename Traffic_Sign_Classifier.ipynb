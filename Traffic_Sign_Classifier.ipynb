{
 "cells": [
  {
   "cell_type": "markdown",
   "metadata": {},
   "source": [
    "# Self-Driving Car Engineer Nanodegree\n",
    "\n",
    "## Deep Learning\n",
    "\n",
    "## Project: Build a Traffic Sign Recognition Classifier\n",
    "\n",
    "In this notebook, a template is provided for you to implement your functionality in stages, which is required to successfully complete this project. If additional code is required that cannot be included in the notebook, be sure that the Python code is successfully imported and included in your submission if necessary. \n",
    "\n",
    "> **Note**: Once you have completed all of the code implementations, you need to finalize your work by exporting the iPython Notebook as an HTML document. Before exporting the notebook to html, all of the code cells need to have been run so that reviewers can see the final implementation and output. You can then export the notebook by using the menu above and navigating to  \\n\",\n",
    "    \"**File -> Download as -> HTML (.html)**. Include the finished document along with this notebook as your submission. \n",
    "\n",
    "In addition to implementing code, there is a writeup to complete. The writeup should be completed in a separate file, which can be either a markdown file or a pdf document. There is a [write up template](https://github.com/udacity/CarND-Traffic-Sign-Classifier-Project/blob/master/writeup_template.md) that can be used to guide the writing process. Completing the code template and writeup template will cover all of the [rubric points](https://review.udacity.com/#!/rubrics/481/view) for this project.\n",
    "\n",
    "The [rubric](https://review.udacity.com/#!/rubrics/481/view) contains \"Stand Out Suggestions\" for enhancing the project beyond the minimum requirements. The stand out suggestions are optional. If you decide to pursue the \"stand out suggestions\", you can include the code in this Ipython notebook and also discuss the results in the writeup file.\n",
    "\n",
    "\n",
    ">**Note:** Code and Markdown cells can be executed using the **Shift + Enter** keyboard shortcut. In addition, Markdown cells can be edited by typically double-clicking the cell to enter edit mode."
   ]
  },
  {
   "cell_type": "markdown",
   "metadata": {},
   "source": [
    "---\n",
    "## Step 0: Load The Data"
   ]
  },
  {
   "cell_type": "code",
   "execution_count": 1,
   "metadata": {
    "collapsed": false
   },
   "outputs": [],
   "source": [
    "# Load pickled data\n",
    "import pickle\n",
    "\n",
    "# TODO: Fill this in based on where you saved the training and testing data\n",
    "\n",
    "training_file = \"train.p\"\n",
    "validation_file= \"valid.p\"\n",
    "testing_file = \"test.p\"\n",
    "\n",
    "with open(training_file, mode='rb') as f:\n",
    "    train = pickle.load(f)\n",
    "with open(validation_file, mode='rb') as f:\n",
    "    valid = pickle.load(f)\n",
    "with open(testing_file, mode='rb') as f:\n",
    "    test = pickle.load(f)\n",
    "    \n",
    "X_train, y_train = train['features'], train['labels']\n",
    "X_valid, y_valid = valid['features'], valid['labels']\n",
    "X_test, y_test = test['features'], test['labels']"
   ]
  },
  {
   "cell_type": "markdown",
   "metadata": {},
   "source": [
    "---\n",
    "\n",
    "## Step 1: Dataset Summary & Exploration\n",
    "\n",
    "The pickled data is a dictionary with 4 key/value pairs:\n",
    "\n",
    "- `'features'` is a 4D array containing raw pixel data of the traffic sign images, (num examples, width, height, channels).\n",
    "- `'labels'` is a 1D array containing the label/class id of the traffic sign. The file `signnames.csv` contains id -> name mappings for each id.\n",
    "- `'sizes'` is a list containing tuples, (width, height) representing the the original width and height the image.\n",
    "- `'coords'` is a list containing tuples, (x1, y1, x2, y2) representing coordinates of a bounding box around the sign in the image. **THESE COORDINATES ASSUME THE ORIGINAL IMAGE. THE PICKLED DATA CONTAINS RESIZED VERSIONS (32 by 32) OF THESE IMAGES**\n",
    "\n",
    "Complete the basic data summary below. Use python, numpy and/or pandas methods to calculate the data summary rather than hard coding the results. For example, the [pandas shape method](http://pandas.pydata.org/pandas-docs/stable/generated/pandas.DataFrame.shape.html) might be useful for calculating some of the summary results. "
   ]
  },
  {
   "cell_type": "markdown",
   "metadata": {},
   "source": [
    "### Provide a Basic Summary of the Data Set Using Python, Numpy and/or Pandas"
   ]
  },
  {
   "cell_type": "code",
   "execution_count": 2,
   "metadata": {
    "collapsed": false
   },
   "outputs": [
    {
     "name": "stdout",
     "output_type": "stream",
     "text": [
      "Number of training examples = 34799\n",
      "Number of testing examples = 12630\n",
      "Image data shape = (32, 32)\n",
      "Number of classes = 43\n"
     ]
    }
   ],
   "source": [
    "### Replace each question mark with the appropriate value. \n",
    "### Use python, pandas or numpy methods rather than hard coding the results\n",
    "import numpy as np\n",
    "\n",
    "# TODO: Number of training examples\n",
    "n_train = len(X_train)\n",
    "\n",
    "# TODO: Number of testing examples.\n",
    "n_test = len(X_test)\n",
    "\n",
    "# TODO: What's the shape of an traffic sign image?\n",
    "image_shape = np.shape(X_train[0])[0:2]\n",
    "\n",
    "# TODO: How many unique classes/labels there are in the dataset.\n",
    "n_classes = len(np.unique(y_train))\n",
    "\n",
    "print(\"Number of training examples =\", n_train)\n",
    "print(\"Number of testing examples =\", n_test)\n",
    "print(\"Image data shape =\", image_shape)\n",
    "print(\"Number of classes =\", n_classes)"
   ]
  },
  {
   "cell_type": "markdown",
   "metadata": {},
   "source": [
    "### Include an exploratory visualization of the dataset"
   ]
  },
  {
   "cell_type": "markdown",
   "metadata": {},
   "source": [
    "Visualize the German Traffic Signs Dataset using the pickled file(s). This is open ended, suggestions include: plotting traffic sign images, plotting the count of each sign, etc.\n",
    "\n",
    "The [Matplotlib](http://matplotlib.org/) [examples](http://matplotlib.org/examples/index.html) and [gallery](http://matplotlib.org/gallery.html) pages are a great resource for doing visualizations in Python.\n",
    "\n",
    "**NOTE:** It's recommended you start with something simple first. If you wish to do more, come back to it after you've completed the rest of the sections."
   ]
  },
  {
   "cell_type": "code",
   "execution_count": 3,
   "metadata": {
    "collapsed": false,
    "scrolled": false
   },
   "outputs": [
    {
     "data": {
      "image/png": "[encoded data removed]",
      "text/plain": [
       "<matplotlib.figure.Figure at 0x7f8acc03c6d8>"
      ]
     },
     "metadata": {},
     "output_type": "display_data"
    },
    {
     "data": {
      "image/png": "[encoded data removed]",
      "text/plain": [
       "<matplotlib.figure.Figure at 0x7f8ad4f06a58>"
      ]
     },
     "metadata": {},
     "output_type": "display_data"
    },
    {
     "data": {
      "image/png": "[encoded data removed]",
      "text/plain": [
       "<matplotlib.figure.Figure at 0x7f8a97f9fc18>"
      ]
     },
     "metadata": {},
     "output_type": "display_data"
    },
    {
     "data": {
      "image/png": "[encoded data removed]",
      "text/plain": [
       "<matplotlib.figure.Figure at 0x7f8a97f6b710>"
      ]
     },
     "metadata": {},
     "output_type": "display_data"
    },
    {
     "data": {
      "image/png": "[encoded data removed]",
      "text/plain": [
       "<matplotlib.figure.Figure at 0x7f8a97f3fac8>"
      ]
     },
     "metadata": {},
     "output_type": "display_data"
    },
    {
     "data": {
      "image/png": "[encoded data removed]",
      "text/plain": [
       "<matplotlib.figure.Figure at 0x7f8a97f074e0>"
      ]
     },
     "metadata": {},
     "output_type": "display_data"
    },
    {
     "data": {
      "image/png": "[encoded data removed]",
      "text/plain": [
       "<matplotlib.figure.Figure at 0x7f8a97e5c5f8>"
      ]
     },
     "metadata": {},
     "output_type": "display_data"
    },
    {
     "data": {
      "image/png": "[encoded data removed]",
      "text/plain": [
       "<matplotlib.figure.Figure at 0x7f8a97e252b0>"
      ]
     },
     "metadata": {},
     "output_type": "display_data"
    },
    {
     "data": {
      "image/png": "[encoded data removed]",
      "text/plain": [
       "<matplotlib.figure.Figure at 0x7f8a958dae10>"
      ]
     },
     "metadata": {},
     "output_type": "display_data"
    },
    {
     "data": {
      "image/png": "[encoded data removed]",
      "text/plain": [
       "<matplotlib.figure.Figure at 0x7f8a958a7080>"
      ]
     },
     "metadata": {},
     "output_type": "display_data"
    },
    {
     "data": {
      "image/png": "[encoded data removed]",
      "text/plain": [
       "<matplotlib.figure.Figure at 0x7f8a95877dd8>"
      ]
     },
     "metadata": {},
     "output_type": "display_data"
    }
   ],
   "source": [
    "### Data exploration visualization code goes here.\n",
    "### Feel free to use as many code cells as needed.\n",
    "import matplotlib.pyplot as plt\n",
    "import random\n",
    "# Visualizations will be shown in the notebook.\n",
    "%matplotlib inline\n",
    "\n",
    "plt.hist(y_train, bins=range(min(y_train), max(y_train), 1))\n",
    "plt.title(\"Count Of Each Sign\")\n",
    "plt.xlabel(\"Sign #\")\n",
    "plt.ylabel(\"Frequency\")\n",
    "for _ in range(0,10):\n",
    "    index = random.randint(0, len(X_train))\n",
    "    image = X_train[index].squeeze()\n",
    "    plt.figure()\n",
    "    plt.imshow(image)\n",
    "plt.show()"
   ]
  },
  {
   "cell_type": "markdown",
   "metadata": {},
   "source": [
    "----\n",
    "\n",
    "## Step 2: Design and Test a Model Architecture\n",
    "\n",
    "Design and implement a deep learning model that learns to recognize traffic signs. Train and test your model on the [German Traffic Sign Dataset](http://benchmark.ini.rub.de/?section=gtsrb&subsection=dataset).\n",
    "\n",
    "There are various aspects to consider when thinking about this problem:\n",
    "\n",
    "- Neural network architecture\n",
    "- Play around preprocessing techniques (normalization, rgb to grayscale, etc)\n",
    "- Number of examples per label (some have more than others).\n",
    "- Generate fake data.\n",
    "\n",
    "Here is an example of a [published baseline model on this problem](http://yann.lecun.com/exdb/publis/pdf/sermanet-ijcnn-11.pdf). It's not required to be familiar with the approach used in the paper but, it's good practice to try to read papers like these.\n",
    "\n",
    "**NOTE:** The LeNet-5 implementation shown in the [classroom](https://classroom.udacity.com/nanodegrees/nd013/parts/fbf77062-5703-404e-b60c-95b78b2f3f9e/modules/6df7ae49-c61c-4bb2-a23e-6527e69209ec/lessons/601ae704-1035-4287-8b11-e2c2716217ad/concepts/d4aca031-508f-4e0b-b493-e7b706120f81) at the end of the CNN lesson is a solid starting point. You'll have to change the number of classes and possibly the preprocessing, but aside from that it's plug and play!"
   ]
  },
  {
   "cell_type": "markdown",
   "metadata": {},
   "source": [
    "### Pre-process the Data Set (normalization, grayscale, etc.)"
   ]
  },
  {
   "cell_type": "markdown",
   "metadata": {},
   "source": [
    "Use the code cell (or multiple code cells, if necessary) to implement the first step of your project."
   ]
  },
  {
   "cell_type": "code",
   "execution_count": 4,
   "metadata": {
    "collapsed": false
   },
   "outputs": [],
   "source": [
    "### Preprocess the data here. Preprocessing steps could include normalization, converting to grayscale, etc.\n",
    "### Feel free to use as many code cells as needed.\n",
    "\n",
    "from sklearn.utils import shuffle\n",
    "from sklearn.model_selection import train_test_split\n",
    "\n",
    "X_train = (X_train - 127.5)/255\n",
    "X_valid = (X_valid - 127.5)/255\n",
    "X_test = (X_test - 127.5)/255\n"
   ]
  },
  {
   "cell_type": "markdown",
   "metadata": {},
   "source": [
    "### Model Architecture"
   ]
  },
  {
   "cell_type": "code",
   "execution_count": 5,
   "metadata": {
    "collapsed": false
   },
   "outputs": [],
   "source": [
    "### Define your architecture here.\n",
    "### Feel free to use as many code cells as needed.\n",
    "\n",
    "import tensorflow as tf\n",
    "from tensorflow.contrib.layers import flatten\n",
    "\n",
    "EPOCHS = 100\n",
    "BATCH_SIZE = 256"
   ]
  },
  {
   "cell_type": "code",
   "execution_count": 6,
   "metadata": {
    "collapsed": true
   },
   "outputs": [],
   "source": [
    "\n",
    "def LeNet(x):    \n",
    "    mu = 0\n",
    "    sigma = 0.1\n",
    "    dropout=.40\n",
    "    \n",
    "    # SOLUTION: Layer 1: Convolutional. Input = 32x32x3. Output = 28x28x6.\n",
    "    conv1_W = tf.Variable(tf.truncated_normal(shape=(5, 5, 3, 6), mean = mu, stddev = sigma))\n",
    "    conv1_b = tf.Variable(tf.zeros(6))\n",
    "    conv1   = tf.nn.conv2d(x, conv1_W, strides=[1, 1, 1, 1], padding='VALID') + conv1_b\n",
    "\n",
    "    # Activation.\n",
    "    conv1 = tf.nn.relu(conv1)\n",
    "\n",
    "    # Pooling. Input = 28x28x6. Output = 14x14x6.\n",
    "    conv1 = tf.nn.max_pool(conv1, ksize=[1, 2, 2, 1], strides=[1, 2, 2, 1], padding='VALID')\n",
    "\n",
    "    # Layer 2: Convolutional. Output = 10x10x16.\n",
    "    conv2_W = tf.Variable(tf.truncated_normal(shape=(5, 5, 6, 16), mean = mu, stddev = sigma))\n",
    "    conv2_b = tf.Variable(tf.zeros(16))\n",
    "    conv2   = tf.nn.conv2d(conv1, conv2_W, strides=[1, 1, 1, 1], padding='VALID') + conv2_b\n",
    "    \n",
    "    # Activation.\n",
    "    conv2 = tf.nn.relu(conv2)\n",
    "\n",
    "    # Pooling. Input = 10x10x16. Output = 5x5x16.\n",
    "    conv2 = tf.nn.max_pool(conv2, ksize=[1, 2, 2, 1], strides=[1, 2, 2, 1], padding='VALID')\n",
    "\n",
    "    # Flatten. Input = 5x5x16. Output = 400.\n",
    "    fc0   = flatten(conv2)\n",
    "    \n",
    "    # Layer 3: Fully Connected. Input = 400. Output = 120.\n",
    "    fc1_W = tf.Variable(tf.truncated_normal(shape=(400, 120), mean = mu, stddev = sigma))\n",
    "    fc1_b = tf.Variable(tf.zeros(120))\n",
    "    fc1   = tf.matmul(fc0, fc1_W) + fc1_b\n",
    "    \n",
    "    # Activation.\n",
    "    fc1    = tf.nn.relu(fc1)\n",
    "    \n",
    "    # Apply dropout\n",
    "    fc1 = tf.nn.dropout(fc1, dropout)\n",
    "    \n",
    "    # Layer 4: Fully Connected. Input = 120. Output = 84.\n",
    "    fc2_W  = tf.Variable(tf.truncated_normal(shape=(120, 84), mean = mu, stddev = sigma))\n",
    "    fc2_b  = tf.Variable(tf.zeros(84))\n",
    "    fc2    = tf.matmul(fc1, fc2_W) + fc2_b\n",
    "\n",
    "    # Activation.\n",
    "    fc2    = tf.nn.relu(fc2)\n",
    "\n",
    "    # Layer 5: Fully Connected. Input = 84. Output = 43.\n",
    "    fc3_W  = tf.Variable(tf.truncated_normal(shape=(84, 43), mean = mu, stddev = sigma))\n",
    "    fc3_b  = tf.Variable(tf.zeros(43))\n",
    "    logits = tf.matmul(fc2, fc3_W) + fc3_b\n",
    "    \n",
    "    return logits"
   ]
  },
  {
   "cell_type": "markdown",
   "metadata": {},
   "source": [
    "# Features and Labels"
   ]
  },
  {
   "cell_type": "code",
   "execution_count": 7,
   "metadata": {
    "collapsed": true
   },
   "outputs": [],
   "source": [
    "x = tf.placeholder(tf.float32, (None, 32, 32, 3))\n",
    "y = tf.placeholder(tf.int32, (None))\n",
    "one_hot_y = tf.one_hot(y, 43)"
   ]
  },
  {
   "cell_type": "markdown",
   "metadata": {},
   "source": [
    "### Train, Validate and Test the Model"
   ]
  },
  {
   "cell_type": "markdown",
   "metadata": {},
   "source": [
    "A validation set can be used to assess how well the model is performing. A low accuracy on the training and validation\n",
    "sets imply underfitting. A high accuracy on the test set but low accuracy on the validation set implies overfitting."
   ]
  },
  {
   "cell_type": "code",
   "execution_count": 8,
   "metadata": {
    "collapsed": true
   },
   "outputs": [],
   "source": [
    "### Train your model here.\n",
    "### Calculate and report the accuracy on the training and validation set.\n",
    "### Once a final model architecture is selected, \n",
    "### the accuracy on the test set should be calculated and reported as well.\n",
    "### Feel free to use as many code cells as needed.\n",
    "rate = 0.001\n",
    "\n",
    "logits = LeNet(x)\n",
    "cross_entropy = tf.nn.softmax_cross_entropy_with_logits(logits, one_hot_y)\n",
    "loss_operation = tf.reduce_mean(cross_entropy)\n",
    "optimizer = tf.train.AdamOptimizer(learning_rate = rate)\n",
    "training_operation = optimizer.minimize(loss_operation)"
   ]
  },
  {
   "cell_type": "markdown",
   "metadata": {},
   "source": [
    "# Model Evaluation"
   ]
  },
  {
   "cell_type": "code",
   "execution_count": 9,
   "metadata": {
    "collapsed": true
   },
   "outputs": [],
   "source": [
    "correct_prediction = tf.equal(tf.argmax(logits, 1), tf.argmax(one_hot_y, 1))\n",
    "accuracy_operation = tf.reduce_mean(tf.cast(correct_prediction, tf.float32))\n",
    "saver = tf.train.Saver()\n",
    "\n",
    "def evaluate(X_data, y_data):\n",
    "    num_examples = len(X_data)\n",
    "    total_accuracy = 0\n",
    "    sess = tf.get_default_session()\n",
    "    for offset in range(0, num_examples, BATCH_SIZE):\n",
    "        batch_x, batch_y = X_data[offset:offset+BATCH_SIZE], y_data[offset:offset+BATCH_SIZE]\n",
    "        accuracy = sess.run(accuracy_operation, feed_dict={x: batch_x, y: batch_y})\n",
    "        total_accuracy += (accuracy * len(batch_x))\n",
    "    return total_accuracy / num_examples"
   ]
  },
  {
   "cell_type": "code",
   "execution_count": 10,
   "metadata": {
    "collapsed": true
   },
   "outputs": [],
   "source": [
    "image_prediction = tf.argmax(logits,1)\n",
    "def predict_images(X_data):\n",
    "    sess = tf.get_default_session()\n",
    "    prediction = sess.run(image_prediction, feed_dict={x: X_data})\n",
    "    return prediction\n",
    "\n",
    "def predict_image_probabilities(X_data):\n",
    "    sess = tf.get_default_session()\n",
    "    prediction = sess.run(logits, feed_dict={x: X_data})\n",
    "    return prediction"
   ]
  },
  {
   "cell_type": "markdown",
   "metadata": {},
   "source": [
    "# Train the Model"
   ]
  },
  {
   "cell_type": "code",
   "execution_count": 11,
   "metadata": {
    "collapsed": false,
    "scrolled": false
   },
   "outputs": [
    {
     "name": "stdout",
     "output_type": "stream",
     "text": [
      "Training...\n",
      "\n",
      "EPOCH 1 ...\n",
      "Validation Accuracy = 0.387\n",
      "\n",
      "EPOCH 2 ...\n",
      "Validation Accuracy = 0.605\n",
      "\n",
      "EPOCH 3 ...\n",
      "Validation Accuracy = 0.694\n",
      "\n",
      "EPOCH 4 ...\n",
      "Validation Accuracy = 0.733\n",
      "\n",
      "EPOCH 5 ...\n",
      "Validation Accuracy = 0.774\n",
      "\n",
      "EPOCH 6 ...\n",
      "Validation Accuracy = 0.795\n",
      "\n",
      "EPOCH 7 ...\n",
      "Validation Accuracy = 0.807\n",
      "\n",
      "EPOCH 8 ...\n",
      "Validation Accuracy = 0.824\n",
      "\n",
      "EPOCH 9 ...\n",
      "Validation Accuracy = 0.829\n",
      "\n",
      "EPOCH 10 ...\n",
      "Validation Accuracy = 0.837\n",
      "\n",
      "EPOCH 11 ...\n",
      "Validation Accuracy = 0.846\n",
      "\n",
      "EPOCH 12 ...\n",
      "Validation Accuracy = 0.852\n",
      "\n",
      "EPOCH 13 ...\n",
      "Validation Accuracy = 0.853\n",
      "\n",
      "EPOCH 14 ...\n",
      "Validation Accuracy = 0.855\n",
      "\n",
      "EPOCH 15 ...\n",
      "Validation Accuracy = 0.867\n",
      "\n",
      "EPOCH 16 ...\n",
      "Validation Accuracy = 0.861\n",
      "\n",
      "EPOCH 17 ...\n",
      "Validation Accuracy = 0.887\n",
      "\n",
      "EPOCH 18 ...\n",
      "Validation Accuracy = 0.877\n",
      "\n",
      "EPOCH 19 ...\n",
      "Validation Accuracy = 0.875\n",
      "\n",
      "EPOCH 20 ...\n",
      "Validation Accuracy = 0.886\n",
      "\n",
      "EPOCH 21 ...\n",
      "Validation Accuracy = 0.883\n",
      "\n",
      "EPOCH 22 ...\n",
      "Validation Accuracy = 0.894\n",
      "\n",
      "EPOCH 23 ...\n",
      "Validation Accuracy = 0.884\n",
      "\n",
      "EPOCH 24 ...\n",
      "Validation Accuracy = 0.896\n",
      "\n",
      "EPOCH 25 ...\n",
      "Validation Accuracy = 0.896\n",
      "\n",
      "EPOCH 26 ...\n",
      "Validation Accuracy = 0.884\n",
      "\n",
      "EPOCH 27 ...\n",
      "Validation Accuracy = 0.894\n",
      "\n",
      "EPOCH 28 ...\n",
      "Validation Accuracy = 0.893\n",
      "\n",
      "EPOCH 29 ...\n",
      "Validation Accuracy = 0.898\n",
      "\n",
      "EPOCH 30 ...\n",
      "Validation Accuracy = 0.901\n",
      "\n",
      "EPOCH 31 ...\n",
      "Validation Accuracy = 0.901\n",
      "\n",
      "EPOCH 32 ...\n",
      "Validation Accuracy = 0.898\n",
      "\n",
      "EPOCH 33 ...\n",
      "Validation Accuracy = 0.906\n",
      "\n",
      "EPOCH 34 ...\n",
      "Validation Accuracy = 0.905\n",
      "\n",
      "EPOCH 35 ...\n",
      "Validation Accuracy = 0.896\n",
      "\n",
      "EPOCH 36 ...\n",
      "Validation Accuracy = 0.898\n",
      "\n",
      "EPOCH 37 ...\n",
      "Validation Accuracy = 0.909\n",
      "\n",
      "EPOCH 38 ...\n",
      "Validation Accuracy = 0.906\n",
      "\n",
      "EPOCH 39 ...\n",
      "Validation Accuracy = 0.904\n",
      "\n",
      "EPOCH 40 ...\n",
      "Validation Accuracy = 0.907\n",
      "\n",
      "EPOCH 41 ...\n",
      "Validation Accuracy = 0.908\n",
      "\n",
      "EPOCH 42 ...\n",
      "Validation Accuracy = 0.908\n",
      "\n",
      "EPOCH 43 ...\n",
      "Validation Accuracy = 0.904\n",
      "\n",
      "EPOCH 44 ...\n",
      "Validation Accuracy = 0.905\n",
      "\n",
      "EPOCH 45 ...\n",
      "Validation Accuracy = 0.916\n",
      "\n",
      "EPOCH 46 ...\n",
      "Validation Accuracy = 0.914\n",
      "\n",
      "EPOCH 47 ...\n",
      "Validation Accuracy = 0.913\n",
      "\n",
      "EPOCH 48 ...\n",
      "Validation Accuracy = 0.913\n",
      "\n",
      "EPOCH 49 ...\n",
      "Validation Accuracy = 0.909\n",
      "\n",
      "EPOCH 50 ...\n",
      "Validation Accuracy = 0.910\n",
      "\n",
      "EPOCH 51 ...\n",
      "Validation Accuracy = 0.908\n",
      "\n",
      "EPOCH 52 ...\n",
      "Validation Accuracy = 0.912\n",
      "\n",
      "EPOCH 53 ...\n",
      "Validation Accuracy = 0.911\n",
      "\n",
      "EPOCH 54 ...\n",
      "Validation Accuracy = 0.916\n",
      "\n",
      "EPOCH 55 ...\n",
      "Validation Accuracy = 0.918\n",
      "\n",
      "EPOCH 56 ...\n",
      "Validation Accuracy = 0.920\n",
      "\n",
      "EPOCH 57 ...\n",
      "Validation Accuracy = 0.913\n",
      "\n",
      "EPOCH 58 ...\n",
      "Validation Accuracy = 0.910\n",
      "\n",
      "EPOCH 59 ...\n",
      "Validation Accuracy = 0.922\n",
      "\n",
      "EPOCH 60 ...\n",
      "Validation Accuracy = 0.912\n",
      "\n",
      "EPOCH 61 ...\n",
      "Validation Accuracy = 0.910\n",
      "\n",
      "EPOCH 62 ...\n",
      "Validation Accuracy = 0.915\n",
      "\n",
      "EPOCH 63 ...\n",
      "Validation Accuracy = 0.920\n",
      "\n",
      "EPOCH 64 ...\n",
      "Validation Accuracy = 0.916\n",
      "\n",
      "EPOCH 65 ...\n",
      "Validation Accuracy = 0.920\n",
      "\n",
      "EPOCH 66 ...\n",
      "Validation Accuracy = 0.917\n",
      "\n",
      "EPOCH 67 ...\n",
      "Validation Accuracy = 0.917\n",
      "\n",
      "EPOCH 68 ...\n",
      "Validation Accuracy = 0.919\n",
      "\n",
      "EPOCH 69 ...\n",
      "Validation Accuracy = 0.924\n",
      "\n",
      "EPOCH 70 ...\n",
      "Validation Accuracy = 0.925\n",
      "\n",
      "EPOCH 71 ...\n",
      "Validation Accuracy = 0.924\n",
      "\n",
      "EPOCH 72 ...\n",
      "Validation Accuracy = 0.923\n",
      "\n",
      "EPOCH 73 ...\n",
      "Validation Accuracy = 0.917\n",
      "\n",
      "EPOCH 74 ...\n",
      "Validation Accuracy = 0.922\n",
      "\n",
      "EPOCH 75 ...\n",
      "Validation Accuracy = 0.920\n",
      "\n",
      "EPOCH 76 ...\n",
      "Validation Accuracy = 0.920\n",
      "\n",
      "EPOCH 77 ...\n",
      "Validation Accuracy = 0.918\n",
      "\n",
      "EPOCH 78 ...\n",
      "Validation Accuracy = 0.922\n",
      "\n",
      "EPOCH 79 ...\n",
      "Validation Accuracy = 0.922\n",
      "\n",
      "EPOCH 80 ...\n",
      "Validation Accuracy = 0.924\n",
      "\n",
      "EPOCH 81 ...\n",
      "Validation Accuracy = 0.919\n",
      "\n",
      "EPOCH 82 ...\n",
      "Validation Accuracy = 0.922\n",
      "\n",
      "EPOCH 83 ...\n",
      "Validation Accuracy = 0.925\n",
      "\n",
      "EPOCH 84 ...\n",
      "Validation Accuracy = 0.918\n",
      "\n",
      "EPOCH 85 ...\n",
      "Validation Accuracy = 0.924\n",
      "\n",
      "EPOCH 86 ...\n",
      "Validation Accuracy = 0.926\n",
      "\n",
      "EPOCH 87 ...\n",
      "Validation Accuracy = 0.921\n",
      "\n",
      "EPOCH 88 ...\n",
      "Validation Accuracy = 0.920\n",
      "\n",
      "EPOCH 89 ...\n",
      "Validation Accuracy = 0.926\n",
      "\n",
      "EPOCH 90 ...\n",
      "Validation Accuracy = 0.929\n",
      "\n",
      "EPOCH 91 ...\n",
      "Validation Accuracy = 0.929\n",
      "\n",
      "EPOCH 92 ...\n",
      "Validation Accuracy = 0.921\n",
      "\n",
      "EPOCH 93 ...\n",
      "Validation Accuracy = 0.918\n",
      "\n",
      "EPOCH 94 ...\n",
      "Validation Accuracy = 0.926\n",
      "\n",
      "EPOCH 95 ...\n",
      "Validation Accuracy = 0.927\n",
      "\n",
      "EPOCH 96 ...\n",
      "Validation Accuracy = 0.925\n",
      "\n",
      "EPOCH 97 ...\n",
      "Validation Accuracy = 0.923\n",
      "\n",
      "EPOCH 98 ...\n",
      "Validation Accuracy = 0.930\n",
      "\n",
      "EPOCH 99 ...\n",
      "Validation Accuracy = 0.928\n",
      "\n",
      "EPOCH 100 ...\n",
      "Validation Accuracy = 0.928\n",
      "\n",
      "Model saved\n"
     ]
    }
   ],
   "source": [
    "with tf.Session() as sess:\n",
    "    sess.run(tf.global_variables_initializer())\n",
    "    num_examples = len(X_train)\n",
    "    \n",
    "    print(\"Training...\")\n",
    "    print()\n",
    "    for i in range(EPOCHS):\n",
    "        X_train, y_train = shuffle(X_train, y_train)\n",
    "        for offset in range(0, num_examples, BATCH_SIZE):\n",
    "            end = offset + BATCH_SIZE\n",
    "            batch_x, batch_y = X_train[offset:end], y_train[offset:end]\n",
    "            sess.run(training_operation, feed_dict={x: batch_x, y: batch_y})\n",
    "            \n",
    "        validation_accuracy = evaluate(X_valid, y_valid)\n",
    "        print(\"EPOCH {} ...\".format(i+1))\n",
    "        print(\"Validation Accuracy = {:.3f}\".format(validation_accuracy))\n",
    "        print()\n",
    "        \n",
    "    saver.save(sess, './lenet')\n",
    "    print(\"Model saved\")"
   ]
  },
  {
   "cell_type": "markdown",
   "metadata": {},
   "source": [
    "# Evaluate the Model"
   ]
  },
  {
   "cell_type": "code",
   "execution_count": 12,
   "metadata": {
    "collapsed": false
   },
   "outputs": [
    {
     "name": "stdout",
     "output_type": "stream",
     "text": [
      "Test Accuracy = 0.921\n"
     ]
    }
   ],
   "source": [
    "with tf.Session() as sess:\n",
    "    saver.restore(sess, tf.train.latest_checkpoint('.'))\n",
    "\n",
    "    test_accuracy = evaluate(X_test, y_test)\n",
    "    print(\"Test Accuracy = {:.3f}\".format(test_accuracy))"
   ]
  },
  {
   "cell_type": "markdown",
   "metadata": {},
   "source": [
    "---\n",
    "\n",
    "## Step 3: Test a Model on New Images\n",
    "\n",
    "To give yourself more insight into how your model is working, download at least five pictures of German traffic signs from the web and use your model to predict the traffic sign type.\n",
    "\n",
    "You may find `signnames.csv` useful as it contains mappings from the class id (integer) to the actual sign name."
   ]
  },
  {
   "cell_type": "markdown",
   "metadata": {},
   "source": [
    "### Load and Output the Images"
   ]
  },
  {
   "cell_type": "code",
   "execution_count": 13,
   "metadata": {
    "collapsed": false,
    "scrolled": false
   },
   "outputs": [
    {
     "name": "stdout",
     "output_type": "stream",
     "text": [
      "This image is: a.png with dimesions: (32, 32, 3)\n",
      "This image is: b.png with dimesions: (32, 32, 3)\n",
      "This image is: c.png with dimesions: (32, 32, 3)\n",
      "This image is: d.png with dimesions: (32, 32, 3)\n",
      "This image is: e.png with dimesions: (32, 32, 3)\n",
      "This image is: f.png with dimesions: (32, 32, 3)\n",
      "This image is: g.png with dimesions: (32, 32, 3)\n",
      "This image is: h.png with dimesions: (32, 32, 3)\n",
      "This image is: i.png with dimesions: (32, 32, 3)\n"
     ]
    },
    {
     "data": {
      "image/png": "[encoded data removed]",
      "text/plain": [
       "<matplotlib.figure.Figure at 0x7f8a1156f240>"
      ]
     },
     "metadata": {},
     "output_type": "display_data"
    },
    {
     "data": {
      "image/png": "[encoded data removed]",
      "text/plain": [
       "<matplotlib.figure.Figure at 0x7f8a51955668>"
      ]
     },
     "metadata": {},
     "output_type": "display_data"
    },
    {
     "data": {
      "image/png": "[encoded data removed]",
      "text/plain": [
       "<matplotlib.figure.Figure at 0x7f8a5196da90>"
      ]
     },
     "metadata": {},
     "output_type": "display_data"
    },
    {
     "data": {
      "image/png": "[encoded data removed]",
      "text/plain": [
       "<matplotlib.figure.Figure at 0x7f8a0c0eba90>"
      ]
     },
     "metadata": {},
     "output_type": "display_data"
    },
    {
     "data": {
      "image/png": "[encoded data removed]",
      "text/plain": [
       "<matplotlib.figure.Figure at 0x7f8a51d8ed68>"
      ]
     },
     "metadata": {},
     "output_type": "display_data"
    },
    {
     "data": {
      "image/png": "[encoded data removed]",
      "text/plain": [
       "<matplotlib.figure.Figure at 0x7f8a51d5a978>"
      ]
     },
     "metadata": {},
     "output_type": "display_data"
    },
    {
     "data": {
      "image/png": "[encoded data removed]",
      "text/plain": [
       "<matplotlib.figure.Figure at 0x7f8a51cedc50>"
      ]
     },
     "metadata": {},
     "output_type": "display_data"
    },
    {
     "data": {
      "image/png": "[encoded data removed]",
      "text/plain": [
       "<matplotlib.figure.Figure at 0x7f8a51cb8748>"
      ]
     },
     "metadata": {},
     "output_type": "display_data"
    },
    {
     "data": {
      "image/png": "[encoded data removed]",
      "text/plain": [
       "<matplotlib.figure.Figure at 0x7f8a51c0ac18>"
      ]
     },
     "metadata": {},
     "output_type": "display_data"
    }
   ],
   "source": [
    "### Load the images and plot them here.\n",
    "### Feel free to use as many code cells as needed.\n",
    "from scipy.misc import imread, imsave, imresize\n",
    "import os\n",
    "\n",
    "images = []\n",
    "filenames = []\n",
    "i=0\n",
    "for file in [f for f in sorted(os.listdir('test_images/')) if f.endswith('.png')]:\n",
    "    plt.figure(i)\n",
    "    image = imread(\"test_images/\" + file)\n",
    "    image = imresize(image, (32,32,3)) #resize image to 32x32\n",
    "    image = image[:,:,0:3] #drop mysterious extra value after rbg\n",
    "    \n",
    "    #store into list\n",
    "    images.append(image)\n",
    "    filenames.append(file)\n",
    "    \n",
    "    #display\n",
    "    print('This image is:', file, 'with dimesions:', image.shape)\n",
    "    plt.imshow(image)\n",
    "    i+=1\n",
    "\n",
    "# convert to numpy array\n",
    "images = np.array(images)"
   ]
  },
  {
   "cell_type": "markdown",
   "metadata": {},
   "source": [
    "# Preprocessing"
   ]
  },
  {
   "cell_type": "code",
   "execution_count": 14,
   "metadata": {
    "collapsed": true
   },
   "outputs": [],
   "source": [
    "images = (images - 127.5)/255 #normalize"
   ]
  },
  {
   "cell_type": "markdown",
   "metadata": {},
   "source": [
    "### Predict the Sign Type for Each Image"
   ]
  },
  {
   "cell_type": "code",
   "execution_count": 15,
   "metadata": {
    "collapsed": false
   },
   "outputs": [],
   "source": [
    "### Run the predictions here and use the model to output the prediction for each image.\n",
    "### Make sure to pre-process the images with the same pre-processing pipeline used earlier.\n",
    "### Feel free to use as many code cells as needed.\n",
    "\n",
    "predictions = []\n",
    "with tf.Session() as sess:\n",
    "    saver.restore(sess, tf.train.latest_checkpoint('.'))\n",
    "    predictions = predict_images(images)"
   ]
  },
  {
   "cell_type": "markdown",
   "metadata": {},
   "source": [
    "### Analyze Performance"
   ]
  },
  {
   "cell_type": "code",
   "execution_count": 16,
   "metadata": {
    "collapsed": false
   },
   "outputs": [
    {
     "name": "stdout",
     "output_type": "stream",
     "text": [
      "Prediction: {'a.png': 33,\n",
      " 'b.png': 14,\n",
      " 'c.png': 31,\n",
      " 'd.png': 3,\n",
      " 'e.png': 28,\n",
      " 'f.png': 36,\n",
      " 'g.png': 13,\n",
      " 'h.png': 12,\n",
      " 'i.png': 23}\n",
      "Accuracy = 0.889\n"
     ]
    }
   ],
   "source": [
    "### Calculate the accuracy for these 5 new images. \n",
    "### For example, if the model predicted 1 out of 5 signs correctly, it's 20% accurate on these new images.\n",
    "from pprint import pprint\n",
    "from sklearn.metrics import accuracy_score\n",
    "\n",
    "results = dict(zip(filenames, predictions))\n",
    "print(\"Prediction: \", end='')\n",
    "pprint(results)\n",
    "\n",
    "expected = np.array([33,14,31,3,28,41,13,12,23])\n",
    "accuracy = accuracy_score(expected, predictions)\n",
    "print(\"Accuracy = {:.3f}\".format(accuracy))"
   ]
  },
  {
   "cell_type": "markdown",
   "metadata": {},
   "source": [
    "### Output Top 5 Softmax Probabilities For Each Image Found on the Web"
   ]
  },
  {
   "cell_type": "markdown",
   "metadata": {},
   "source": [
    "For each of the new images, print out the model's softmax probabilities to show the **certainty** of the model's predictions (limit the output to the top 5 probabilities for each image). [`tf.nn.top_k`](https://www.tensorflow.org/versions/r0.12/api_docs/python/nn.html#top_k) could prove helpful here. \n",
    "\n",
    "The example below demonstrates how tf.nn.top_k can be used to find the top k predictions for each image.\n",
    "\n",
    "`tf.nn.top_k` will return the values and indices (class ids) of the top k predictions. So if k=3, for each sign, it'll return the 3 largest probabilities (out of a possible 43) and the correspoding class ids.\n",
    "\n",
    "Take this numpy array as an example. The values in the array represent predictions. The array contains softmax probabilities for five candidate images with six possible classes. `tk.nn.top_k` is used to choose the three classes with the highest probability:\n",
    "\n",
    "```\n",
    "# (5, 6) array\n",
    "a = np.array([[ 0.24879643,  0.07032244,  0.12641572,  0.34763842,  0.07893497,\n",
    "         0.12789202],\n",
    "       [ 0.28086119,  0.27569815,  0.08594638,  0.0178669 ,  0.18063401,\n",
    "         0.15899337],\n",
    "       [ 0.26076848,  0.23664738,  0.08020603,  0.07001922,  0.1134371 ,\n",
    "         0.23892179],\n",
    "       [ 0.11943333,  0.29198961,  0.02605103,  0.26234032,  0.1351348 ,\n",
    "         0.16505091],\n",
    "       [ 0.09561176,  0.34396535,  0.0643941 ,  0.16240774,  0.24206137,\n",
    "         0.09155967]])\n",
    "```\n",
    "\n",
    "Running it through `sess.run(tf.nn.top_k(tf.constant(a), k=3))` produces:\n",
    "\n",
    "```\n",
    "TopKV2(values=array([[ 0.34763842,  0.24879643,  0.12789202],\n",
    "       [ 0.28086119,  0.27569815,  0.18063401],\n",
    "       [ 0.26076848,  0.23892179,  0.23664738],\n",
    "       [ 0.29198961,  0.26234032,  0.16505091],\n",
    "       [ 0.34396535,  0.24206137,  0.16240774]]), indices=array([[3, 0, 5],\n",
    "       [0, 1, 4],\n",
    "       [0, 5, 1],\n",
    "       [1, 3, 5],\n",
    "       [1, 4, 3]], dtype=int32))\n",
    "```\n",
    "\n",
    "Looking just at the first row we get `[ 0.34763842,  0.24879643,  0.12789202]`, you can confirm these are the 3 largest probabilities in `a`. You'll also notice `[3, 0, 5]` are the corresponding indices."
   ]
  },
  {
   "cell_type": "code",
   "execution_count": 19,
   "metadata": {
    "collapsed": false
   },
   "outputs": [
    {
     "name": "stdout",
     "output_type": "stream",
     "text": [
      "TopKV2(values=array([[  19.09522247,   18.78044701,   18.6941185 ,   17.30721855,\n",
      "          13.59005451],\n",
      "       [  28.18221664,   15.68092251,   14.22345924,    5.08423519,\n",
      "           1.83485925],\n",
      "       [  98.06993866,   48.00626755,   46.16561127,   40.07125473,\n",
      "          30.8059082 ],\n",
      "       [  76.82702637,   37.77466965,   30.85078812,    6.27536488,\n",
      "           5.90833235],\n",
      "       [  54.00311279,   25.10571098,   18.66600037,    7.08324766,\n",
      "           0.91183257],\n",
      "       [   3.0471909 ,    1.76128829,    1.55416584,    1.34531903,\n",
      "           0.78446549],\n",
      "       [ 185.82542419,   60.8480835 ,   28.80248451,   22.71018219,\n",
      "          15.27577877],\n",
      "       [  25.78330994,    9.23108864,    8.5187664 ,    7.51910067,\n",
      "           5.97443628],\n",
      "       [  14.00640774,   13.8923502 ,   13.05673599,   11.84271526,\n",
      "          11.40825081]], dtype=float32), indices=array([[35, 13, 10, 33, 15],\n",
      "       [14, 17,  3, 13, 34],\n",
      "       [31, 23,  2, 19, 21],\n",
      "       [ 3,  2,  5, 32, 14],\n",
      "       [28, 11, 20, 19, 29],\n",
      "       [36, 38, 41, 25, 23],\n",
      "       [13, 15, 33, 25, 14],\n",
      "       [12,  9, 21, 41, 23],\n",
      "       [20, 29, 23,  7, 10]], dtype=int32))\n"
     ]
    }
   ],
   "source": [
    "### Print out the top five softmax probabilities for the predictions on the German traffic sign images found on the web. \n",
    "### Feel free to use as many code cells as needed.\n",
    "\n",
    "with tf.Session() as sess:\n",
    "    saver.restore(sess, tf.train.latest_checkpoint('.'))\n",
    "    probabilities = predict_image_probabilities(images)\n",
    "    top5 = sess.run(tf.nn.top_k(tf.constant(probabilities), k=5))\n",
    "    \n",
    "    print(top5)"
   ]
  },
  {
   "cell_type": "markdown",
   "metadata": {},
   "source": [
    "> **Note**: Once you have completed all of the code implementations, you need to finalize your work by exporting the IPython Notebook as an HTML document. Before exporting the notebook to html, all of the code cells need to have been run. You can then export the notebook by using the menu above and navigating to  \\n\",\n",
    "    \"**File -> Download as -> HTML (.html)**. Include the finished document along with this notebook as your submission. "
   ]
  },
  {
   "cell_type": "markdown",
   "metadata": {},
   "source": [
    "### Project Writeup\n",
    "\n",
    "Once you have completed the code implementation, document your results in a project writeup using this [template](https://github.com/udacity/CarND-Traffic-Sign-Classifier-Project/blob/master/writeup_template.md) as a guide. The writeup can be in a markdown or pdf file. "
   ]
  }
 ],
 "metadata": {
  "anaconda-cloud": {},
  "kernelspec": {
   "display_name": "Python 3",
   "language": "python",
   "name": "python3"
  },
  "language_info": {
   "codemirror_mode": {
    "name": "ipython",
    "version": 3
   },
   "file_extension": ".py",
   "mimetype": "text/x-python",
   "name": "python",
   "nbconvert_exporter": "python",
   "pygments_lexer": "ipython3",
   "version": "3.5.2"
  },
  "widgets": {
   "state": {},
   "version": "1.1.2"
  }
 },
 "nbformat": 4,
 "nbformat_minor": 1
}
